{
    "cells": [
        {
            "cell_type": "markdown",
            "metadata": {
                "collapsed": true
            },
            "source": "# \"My Jupyter Notebook on IBM Data Science Experience\""
        },
        {
            "cell_type": "markdown",
            "metadata": {},
            "source": "**Nora White**  \nData Scientist"
        },
        {
            "cell_type": "markdown",
            "metadata": {},
            "source": "_I am interested in Data Science because I have been told that there is a shortage on data scientists, and it's alarming that this year, every person will generate 1.7 megabytes in just a second. There has to be someone that can work with that data_"
        },
        {
            "cell_type": "markdown",
            "metadata": {},
            "source": "### The below code will tell you my age"
        },
        {
            "cell_type": "code",
            "execution_count": 3,
            "metadata": {},
            "outputs": [
                {
                    "name": "stdout",
                    "output_type": "stream",
                    "text": "26\n"
                }
            ],
            "source": "age = 26\nprint (age)"
        },
        {
            "cell_type": "markdown",
            "metadata": {},
            "source": "* Bullet  \n- Another bullet  \n+ One more bullet   \n\n1. Un  \n2. Deux  \n3. Trois  \n4. Quatre  \n5. Cinq   \n\n#### I love this tree <3\n<img src=http://www.keepaustingreen.com/wp-content/uploads/2019/01/truffula-tree.jpg>\n\n~~Please give me a good score.~~"
        },
        {
            "cell_type": "code",
            "execution_count": null,
            "metadata": {},
            "outputs": [],
            "source": ""
        }
    ],
    "metadata": {
        "kernelspec": {
            "display_name": "Python 3.6",
            "language": "python",
            "name": "python3"
        },
        "language_info": {
            "codemirror_mode": {
                "name": "ipython",
                "version": 3
            },
            "file_extension": ".py",
            "mimetype": "text/x-python",
            "name": "python",
            "nbconvert_exporter": "python",
            "pygments_lexer": "ipython3",
            "version": "3.6.8"
        }
    },
    "nbformat": 4,
    "nbformat_minor": 1
}